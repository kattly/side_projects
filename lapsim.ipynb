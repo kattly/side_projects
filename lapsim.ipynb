{
  "nbformat": 4,
  "nbformat_minor": 0,
  "metadata": {
    "colab": {
      "name": "lapsim.ipynb",
      "provenance": [],
      "collapsed_sections": [
        "NXE-RPuaTGRv"
      ],
      "toc_visible": true,
      "include_colab_link": true
    },
    "kernelspec": {
      "name": "python3",
      "display_name": "Python 3"
    },
    "language_info": {
      "name": "python"
    }
  },
  "cells": [
    {
      "cell_type": "markdown",
      "metadata": {
        "id": "view-in-github",
        "colab_type": "text"
      },
      "source": [
        "<a href=\"https://colab.research.google.com/github/kattly/side_projects/blob/master/lapsim.ipynb\" target=\"_parent\"><img src=\"https://colab.research.google.com/assets/colab-badge.svg\" alt=\"Open In Colab\"/></a>"
      ]
    },
    {
      "cell_type": "markdown",
      "metadata": {
        "id": "tSpca8LDDZdj"
      },
      "source": [
        "# **Point Mass Laptime Simulation**\n",
        "## **Introduction**\n",
        "\n",
        "We would like to know the effects of changing various parameters when designing a race car. We'll be analyzing the sensitivities of the following high-level parameters on a 75m straight-line acceleration event:\n",
        "1. Aerodynamics\n",
        "  * Drag, $C_d$\n",
        "  * Downforce, $C_{df}$\n",
        "  * Cross-sectional Area, $A$\n",
        "2. Mass, $m$\n",
        "3. Tire Friction, $\\mu$"
      ]
    },
    {
      "cell_type": "markdown",
      "metadata": {
        "id": "NXE-RPuaTGRv"
      },
      "source": [
        "### Vehicle Setup"
      ]
    },
    {
      "cell_type": "code",
      "metadata": {
        "id": "0M82BQ1YTRmj"
      },
      "source": [
        "# Set-up code with sample vehicle parameters in a dictionary\n",
        "import numpy as np\n",
        "import pandas as pd\n",
        "from matplotlib import pyplot as plt\n",
        "\n",
        "vehicle = {       # Sample vehicle parameters\n",
        "    \"mass\": 200,  # Mass of whole car, kg\n",
        "    \"area\": 1.3,  # Cross-sectional area, m^2\n",
        "    \"C_d\" : 1.5,  # Coefficient of drag\n",
        "    \"C_df\": 4.0,  # Coefficient of downforce\n",
        "    \"mu\"  : 1.5,  # Tire coefficient of friction\n",
        "}\n",
        "print(vehicle)\n",
        "\n",
        "# Read in the track csv TODO: get track.csv \n",
        "filtered_track = pd.read_csv(\"/content/track.csv\")\n",
        "\n",
        "# This part is just to visualize the track that we've loaded\n",
        "sctt = plt.scatter(filtered_track.Latitude, filtered_track.Longitude)\n",
        "plt.colorbar(sctt)"
      ],
      "execution_count": null,
      "outputs": []
    },
    {
      "cell_type": "markdown",
      "metadata": {
        "id": "yS-_Ngm1RUp-"
      },
      "source": [
        "# **Equations of Motion**\n",
        "1. Let's find all the forces acting on the car:\n",
        "  * Weight of the car\n",
        "    * $F_z = mg$\n",
        "    * Gravity: $g$ = 9.81 $m/s^2$\n",
        "    * Acting downwards\n",
        "  * Downforce\n",
        "    * $F_{df} = \\frac{1}{2} \\rho_{air} C_{df} A_{cross} v^2$\n",
        "    * Air density: $\\rho_{air}$ = 1.28 $kg/m^3$\n",
        "    * Forward velocity $v$ changes over time\n",
        "    * Acting downwards\n",
        "  * Drag\n",
        "    * $F_d = \\frac{1}{2} \\rho_{air} C_{d} A_{cross} v^2$\n",
        "    * Acting opposite direction of motion\n",
        "  * Tire friction\n",
        "    * $F_t = \\mu F_{normal} = \\mu (F_z + F_{df}) = \\mu (mg + F_{df})$\n",
        "    * Pushing vehicle forwards \n",
        "\n",
        "2. Adding up all the forces acting on our car's forward motion, we get the total force propelling the car:\n",
        "  * $F_{total, x} = F_t - F_d$\n",
        "\n",
        "3. Recall Newton's 2nd Law stating $F = ma$, thus we can calculate the resultant acceleration at every *i*th time step:\n",
        "  * $a_{i} = \\frac{F_{total, x}}{m} = \\frac{F_t - F_d}{m}$\n",
        "\n",
        "4. Recall our kinematic relationships between position $x$, velocity $v$, and acceleration $a$. For every *i*th time step:\n",
        "  * $x_{i+1} = x_{i} + v_{i} \\Delta t$\n",
        "  * $v_{i+1} = v_{i} + a_{i} \\Delta t$\n",
        "\n",
        "In summary, for every time step *i* until we reach a displacement $x$ of 75m, we must solve the following:\n",
        "\n",
        "1. $F_{df} = \\frac{1}{2} \\rho_{air} C_{df} A_{cross} v_{i}^2$\n",
        "2. $F_{d} = \\frac{1}{2} \\rho_{air} C_{d} A_{cross} v_{i}^2$\n",
        "3. $F_t = \\mu (mg + F_{df})$\n",
        "4. $a_{i} = \\frac{F_t - F_d}{m}$\n",
        "5. $x_{i+1} = x_{i} + v_{i} \\Delta t$\n",
        "6. $v_{i+1} = v_{i} + a_{i} \\Delta t$"
      ]
    },
    {
      "cell_type": "code",
      "metadata": {
        "colab": {
          "base_uri": "https://localhost:8080/"
        },
        "id": "gmK0Rq8YSujZ",
        "outputId": "810ff0ea-175f-4f9d-fefa-1ac4cd8bbdc7"
      },
      "source": [
        "# Calculate all the forces\n",
        "F_z = vehicle[\"mass\"] * 9.81\n",
        "\n",
        "\n"
      ],
      "execution_count": null,
      "outputs": [
        {
          "output_type": "execute_result",
          "data": {
            "text/plain": [
              "dict_keys(['mass', 'area', 'C_d', 'C_df', 'mu'])"
            ]
          },
          "metadata": {
            "tags": []
          },
          "execution_count": 9
        }
      ]
    },
    {
      "cell_type": "markdown",
      "metadata": {
        "id": "npYunwzbfhPJ"
      },
      "source": [
        "# To be deleted\n"
      ]
    },
    {
      "cell_type": "code",
      "metadata": {
        "colab": {
          "base_uri": "https://localhost:8080/"
        },
        "id": "--aqHGVKXQIW",
        "outputId": "54cff503-b030-4243-f936-903cb2bfe1ee"
      },
      "source": [
        "track = pd.read_csv(\"/RRData.csv\")\n",
        "print(track)\n",
        "\n",
        "\n",
        "print(track.columns)\n",
        "print(max(track['Altitude (m)']) - min(track['Altitude (m)']))"
      ],
      "execution_count": null,
      "outputs": [
        {
          "output_type": "stream",
          "text": [
            "Index(['Time', 'Lap', 'GPS_Update', 'GPS_Delay', 'Accuracy (m)', 'Latitude',\n",
            "       'Longitude', 'Altitude (m)', 'Speed (MPH)', 'Heading', 'X', 'Y', 'Z',\n",
            "       'OBD_Update', 'Engine Speed (RPM) *OBD', 'Accelerator Pedal (%) *OBD'],\n",
            "      dtype='object')\n",
            "39.0\n"
          ],
          "name": "stdout"
        }
      ]
    },
    {
      "cell_type": "code",
      "metadata": {
        "colab": {
          "base_uri": "https://localhost:8080/",
          "height": 286
        },
        "id": "wI24WeUzW04Z",
        "outputId": "dd6eb28e-6f44-4538-cdde-3fbe5c3ae503"
      },
      "source": [
        "sctt = plt.scatter(track.Latitude, track.Longitude, c=track['Lap'])\n",
        "plt.colorbar(sctt)"
      ],
      "execution_count": null,
      "outputs": [
        {
          "output_type": "execute_result",
          "data": {
            "text/plain": [
              "<matplotlib.colorbar.Colorbar at 0x7f3902ea4750>"
            ]
          },
          "metadata": {
            "tags": []
          },
          "execution_count": 48
        },
        {
          "output_type": "display_data",
          "data": {
            "image/png": "[encoded data removed]",
            "text/plain": [
              "<Figure size 432x288 with 2 Axes>"
            ]
          },
          "metadata": {
            "tags": [],
            "needs_background": "light"
          }
        }
      ]
    },
    {
      "cell_type": "code",
      "metadata": {
        "colab": {
          "base_uri": "https://localhost:8080/",
          "height": 286
        },
        "id": "HU7dsL0ZZ1BQ",
        "outputId": "ac99f5d0-39ad-4d00-b985-d94d21f7ae4e"
      },
      "source": [
        "# filtered_track = track[track['Lap']==2]\n",
        "filtered_track = track[track['Lap']==1][['Latitude', 'Longitude']]\n",
        "sctt = plt.scatter(filtered_track.Latitude, filtered_track.Longitude)\n",
        "plt.colorbar(sctt)\n",
        "\n",
        "# Calculate curvature at each point\n",
        "curvature = []\n",
        "for i in range(0, len(filtered_track.Latitude)):\n",
        "  curvature.append()"
      ],
      "execution_count": null,
      "outputs": [
        {
          "output_type": "stream",
          "text": [
            "Index(['Latitude', 'Longitude'], dtype='object')\n"
          ],
          "name": "stdout"
        },
        {
          "output_type": "display_data",
          "data": {
            "image/png": "[encoded data removed]",
            "text/plain": [
              "<Figure size 432x288 with 2 Axes>"
            ]
          },
          "metadata": {
            "tags": [],
            "needs_background": "light"
          }
        }
      ]
    },
    {
      "cell_type": "code",
      "metadata": {
        "id": "REDi-duuiFg1"
      },
      "source": [
        "# Write to a new csv file?\n",
        "filtered_track.to_csv('/content/track.csv', index=False)"
      ],
      "execution_count": null,
      "outputs": []
    },
    {
      "cell_type": "code",
      "metadata": {
        "colab": {
          "base_uri": "https://localhost:8080/"
        },
        "id": "OOvx6QdSoIGG",
        "outputId": "44184d94-16d2-48f0-a6b0-8761206f0947"
      },
      "source": [
        "print(filtered_track)"
      ],
      "execution_count": null,
      "outputs": [
        {
          "output_type": "stream",
          "text": [
            "       Latitude   Longitude\n",
            "3427  39.734973 -103.894463\n",
            "3428  39.734973 -103.894463\n",
            "3429  39.734973 -103.894463\n",
            "3430  39.734973 -103.894463\n",
            "3431  39.734958 -103.894362\n",
            "...         ...         ...\n",
            "6438  39.735203 -103.894530\n",
            "6439  39.735203 -103.894530\n",
            "6440  39.735202 -103.894507\n",
            "6441  39.735202 -103.894507\n",
            "6442  39.735202 -103.894507\n",
            "\n",
            "[3016 rows x 2 columns]\n"
          ],
          "name": "stdout"
        }
      ]
    },
    {
      "cell_type": "markdown",
      "metadata": {
        "id": "R6k8i9EjBjC0"
      },
      "source": [
        ""
      ]
    }
  ]
}