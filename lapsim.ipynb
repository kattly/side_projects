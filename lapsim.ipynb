{
  "nbformat": 4,
  "nbformat_minor": 0,
  "metadata": {
    "colab": {
      "name": "lapsim.ipynb",
      "provenance": [],
      "collapsed_sections": [
        "NXE-RPuaTGRv"
      ],
      "include_colab_link": true
    },
    "kernelspec": {
      "name": "python3",
      "display_name": "Python 3"
    },
    "language_info": {
      "name": "python"
    }
  },
  "cells": [
    {
      "cell_type": "markdown",
      "metadata": {
        "id": "view-in-github",
        "colab_type": "text"
      },
      "source": [
        "<a href=\"https://colab.research.google.com/github/kattly/side_projects/blob/master/lapsim.ipynb\" target=\"_parent\"><img src=\"https://colab.research.google.com/assets/colab-badge.svg\" alt=\"Open In Colab\"/></a>"
      ]
    },
    {
      "cell_type": "markdown",
      "metadata": {
        "id": "tSpca8LDDZdj"
      },
      "source": [
        "# **Point Mass Laptime Simulation**\n",
        "Kattly Li, July 22nd 2021\n",
        "\n",
        "## **Introduction**\n",
        "\n",
        "We would like to know the effects of changing various parameters when designing a race car. We'll be analyzing the sensitivities of the following high-level parameters on a 75m straight-line acceleration event with max. torque of 25Nm:\n",
        "1. Aerodynamics\n",
        "  * Drag, $C_d$\n",
        "  * Downforce, $C_{df}$\n",
        "  * Cross-sectional Area, $A$\n",
        "2. Mass, $m$\n",
        "3. Tire Friction, $\\mu$\n"
      ]
    },
    {
      "cell_type": "markdown",
      "metadata": {
        "id": "NXE-RPuaTGRv"
      },
      "source": [
        "### Vehicle Setup"
      ]
    },
    {
      "cell_type": "code",
      "metadata": {
        "id": "0M82BQ1YTRmj"
      },
      "source": [
        "vehicle = {       # Sample vehicle parameters\n",
        "    \"mass\": 200,  # Mass of whole car, kg\n",
        "    \"area\": 1.3,  # Cross-sectional area, m^2\n",
        "    \"C_d\" : 1.5,  # Coefficient of drag\n",
        "    \"C_df\": 4.0,  # Coefficient of downforce\n",
        "    \"mu\"  : 1.5,  # Tire coefficient of friction\n",
        "    \"r\"   : 0.25  # Tire radius, m\n",
        "    \"torque\" : 25 # Max torque from engine, Nm\n",
        "}"
      ],
      "execution_count": null,
      "outputs": []
    },
    {
      "cell_type": "markdown",
      "metadata": {
        "id": "yS-_Ngm1RUp-"
      },
      "source": [
        "# **Equations of Motion**\n",
        "1. Let's find all the forces acting on the car:\n",
        "  * Weight of the car\n",
        "    * $F_z = mg$\n",
        "    * Gravity: $g$ = 9.81 $m/s^2$\n",
        "    * Acting downwards\n",
        "  * Downforce\n",
        "    * $F_{df} = \\frac{1}{2} \\rho_{air} C_{df} A_{cross} v^2$\n",
        "    * Air density: $\\rho_{air}$ = 1.28 $kg/m^3$\n",
        "    * Forward velocity $v$ changes over time\n",
        "    * Acting downwards\n",
        "  * Drag\n",
        "    * $F_d = \\frac{1}{2} \\rho_{air} C_{d} A_{cross} v^2$\n",
        "    * Acting opposite direction of motion\n",
        "  * Tire friction\n",
        "    * $F_{fr} = \\mu F_{normal} = \\mu (F_z + F_{df}) = \\mu (mg + F_{df})$\n",
        "    * Limits max. thrust achieveable\n",
        "  * Engine thrust\n",
        "    * $F_t = \\frac{T}{r_{tire}}$\n",
        "    * Pushes car forwards\n",
        "\n",
        "2. Adding up all the forces acting on our car's forward motion, we get the total force propelling the car:\n",
        "  * $F_{total, x} = \\max{(F_{fr}, F_t)} - F_d$\n",
        "\n",
        "3. Recall Newton's 2nd Law stating $F = ma$, thus we can calculate the resultant acceleration at every *i*th time step:\n",
        "  * $a_{i} = \\frac{F_{total, x}}{m}$\n",
        "\n",
        "4. Recall our kinematic relationships between position $x$, velocity $v$, and acceleration $a$. For every *i*th time step:\n",
        "  * $x_{i+1} = x_{i} + v_{i} \\Delta t$\n",
        "  * $v_{i+1} = v_{i} + a_{i} \\Delta t$\n",
        "\n",
        "In summary, for every time step *i* until we reach a displacement $x$ of 75m, we must solve the following:\n",
        "\n",
        "\\begin{align}\n",
        "F_{df} &= \\frac{1}{2} \\rho_{air} C_{df} A_{cross} v_{i}^2 \\tag{1} \\\\\n",
        "F_{d} &= \\frac{1}{2} \\rho_{air} C_{d} A_{cross} v_{i}^2 \\tag{2} \\\\\n",
        "F_{fr} &= \\mu (mg + F_{df}) \\tag{3} \\\\\n",
        "F_{total} &= \\max(F_{fr}, F_{t}) - F_d \\tag{4} \\\\\n",
        "a_{i} &= \\frac{F_{total}}{m} \\tag{5} \\\\\n",
        "x_{i+1} &= x_{i} + v_{i} \\Delta t \\tag{6} \\\\\n",
        "v_{i+1} &= v_{i} + a_{i} \\Delta t \\tag{7} \\\\\n",
        "\\end{align}"
      ]
    },
    {
      "cell_type": "code",
      "metadata": {
        "id": "gmK0Rq8YSujZ"
      },
      "source": [
        "# Write your code here:\n",
        "x = []\n",
        "v = []\n",
        "a = []\n",
        "\n",
        "F_thrust = vehicle[\"torque\"]/vehicle[\"r\"]\n",
        "print(\"Max. thrust force is \" + F_thrust + \" N\")\n"
      ],
      "execution_count": null,
      "outputs": []
    }
  ]
}